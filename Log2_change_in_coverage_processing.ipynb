{
 "cells": [
  {
   "cell_type": "markdown",
   "id": "pursuant-darkness",
   "metadata": {},
   "source": [
    "### Author: Aman Virmani"
   ]
  },
  {
   "cell_type": "markdown",
   "id": "liquid-harvest",
   "metadata": {},
   "source": [
    "This code was used to calculate the log2 change in coverage over every base pair in the data. This data is then exported into a csv for further anaylsis."
   ]
  },
  {
   "cell_type": "code",
   "execution_count": null,
   "id": "intense-bulletin",
   "metadata": {},
   "outputs": [],
   "source": [
    "# Import packages and files\n",
    "import pandas as pd\n",
    "import numpy as np\n",
    "import matplotlib.pyplot as plt"
   ]
  },
  {
   "cell_type": "code",
   "execution_count": 1,
   "id": "minus-receiver",
   "metadata": {},
   "outputs": [],
   "source": [
    "# Importing coverage data from two files\n",
    "hour2 = pd.read_csv('hour_2.csv')\n",
    "hour6 = pd.read_csv('hour_6.csv')"
   ]
  },
  {
   "cell_type": "code",
   "execution_count": 2,
   "id": "several-motivation",
   "metadata": {},
   "outputs": [],
   "source": [
    "# Creating dataframe with both files, and computing log2 change in coverage for each nucleotide\n",
    "\n",
    "# Merge the two dataframes on their position\n",
    "final_df = pd.merge(hour6[['ID', 'value']], hour2, how='left', on='ID')\n",
    "final_df = final_df.rename(columns = {'ID': 'ID', 'value_x': 'Hour6', 'value_y': 'Hour2'})\n",
    "\n",
    "# Reordering columns in time order\n",
    "final_df = final_df[['ID','Hour2','Hour6']]\n",
    "\n",
    "# Adding constant and computing log2 coverage for hour2 and hour6\n",
    "final_df['Hour2'] = final_df['Hour2'] + 0.1\n",
    "final_df['log2Hour2'] = np.log2(final_df['Hour2'])\n",
    "\n",
    "final_df['Hour6'] = final_df['Hour6'] + 0.1\n",
    "final_df['log2Hour6'] = np.log2(final_df['Hour6'])\n",
    "\n",
    "# Subtracting the log2 coverage in hour2 from hour6\n",
    "final_df['log2Diff_6_minus_2'] = final_df['log2Hour6'] - final_df['log2Hour2']"
   ]
  },
  {
   "cell_type": "code",
   "execution_count": 4,
   "id": "unlimited-adaptation",
   "metadata": {},
   "outputs": [],
   "source": [
    "# Export dataframe to csv for further analysis\n",
    "final_df.to_csv('Log2_change_in_coverage.csv', index = False)"
   ]
  },
  {
   "cell_type": "code",
   "execution_count": null,
   "id": "equal-eligibility",
   "metadata": {},
   "outputs": [],
   "source": []
  }
 ],
 "metadata": {
  "kernelspec": {
   "display_name": "Python 3",
   "language": "python",
   "name": "python3"
  },
  "language_info": {
   "codemirror_mode": {
    "name": "ipython",
    "version": 3
   },
   "file_extension": ".py",
   "mimetype": "text/x-python",
   "name": "python",
   "nbconvert_exporter": "python",
   "pygments_lexer": "ipython3",
   "version": "3.9.1"
  }
 },
 "nbformat": 4,
 "nbformat_minor": 5
}
