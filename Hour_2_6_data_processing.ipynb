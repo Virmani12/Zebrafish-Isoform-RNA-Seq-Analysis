{
 "cells": [
  {
   "cell_type": "markdown",
   "metadata": {},
   "source": [
    "### Author: Aman Virmani"
   ]
  },
  {
   "cell_type": "markdown",
   "metadata": {},
   "source": [
    "The purpose of this code is to convert the bedgraph data into nucleotide resolution for hour 2 and hour 6. It then exports this into a csv for further analysis."
   ]
  },
  {
   "cell_type": "code",
   "execution_count": 3,
   "metadata": {},
   "outputs": [],
   "source": [
    "# Importing packages\n",
    "import pandas as pd\n",
    "import numpy as np"
   ]
  },
  {
   "cell_type": "code",
   "execution_count": 4,
   "metadata": {},
   "outputs": [],
   "source": [
    "# Reading in bedgraphs for hour 2 and hour 6 development\n",
    "df_2 = pd.read_csv('zf_2hpf.bedgraph', sep = '\\t', names = ['chrom', 'start','end','value'])\n",
    "df_6 = pd.read_csv('zf_6hpf.bedgraph', sep = '\\t', names = ['chrom', 'start','end','value'])"
   ]
  },
  {
   "cell_type": "code",
   "execution_count": 5,
   "metadata": {},
   "outputs": [],
   "source": [
    "# Extracting specific chromosome data\n",
    "df_2_chr3 = df_2[df_2['chrom'] == 'chr3']\n",
    "df_6_chr3 = df_6[df_6['chrom'] == 'chr3']"
   ]
  },
  {
   "cell_type": "markdown",
   "metadata": {},
   "source": [
    "### Hour 2 Manipulation "
   ]
  },
  {
   "cell_type": "code",
   "execution_count": 6,
   "metadata": {},
   "outputs": [],
   "source": [
    "# Turning hour 2 dataframe of ranges into a nucleotide-level dataframe\n",
    "final_df2 = pd.DataFrame({'ID':[-1], 'value':[-1]})\n",
    "for index,row in df_2_chr3.iterrows():\n",
    "    temp_df=(pd.DataFrame({'ID':range(np.int(row['start']), np.int(row['end'])),\n",
    "                          'value':[row['value']]*np.int((row['end'] - row['start']))}))\n",
    "    final_df2 = pd.concat([final_df2, temp_df])"
   ]
  },
  {
   "cell_type": "code",
   "execution_count": 7,
   "metadata": {},
   "outputs": [],
   "source": [
    "# Taking out the first row of negative values\n",
    "final_df2 = final_df2[final_df2['ID'] > -1]"
   ]
  },
  {
   "cell_type": "code",
   "execution_count": 8,
   "metadata": {},
   "outputs": [],
   "source": [
    "# Creating a blank dataframe of the total length of chromosome 3\n",
    "blank = pd.DataFrame({'ID': range(0, 62628489)})"
   ]
  },
  {
   "cell_type": "code",
   "execution_count": 9,
   "metadata": {},
   "outputs": [],
   "source": [
    "# Merging the blank dataframe with the newly created nucleotide-level dataframe\n",
    "new_df = blank.merge(final_df2, how='left', on='ID')"
   ]
  },
  {
   "cell_type": "code",
   "execution_count": 25,
   "metadata": {},
   "outputs": [],
   "source": [
    "# Filling NA's in final dataframe for hour 2 with 0\n",
    "new_df['value'] = new_df['value'].fillna(0.0)"
   ]
  },
  {
   "cell_type": "markdown",
   "metadata": {},
   "source": [
    "### Hour 6 Manipulation"
   ]
  },
  {
   "cell_type": "code",
   "execution_count": null,
   "metadata": {},
   "outputs": [],
   "source": [
    "# Turning hour 6 dataframe of ranges into a nucleotide-level dataframe\n",
    "final_df6 = pd.DataFrame({'ID':[-1], 'value':[-1]})\n",
    "for index, row in df_6_chr3.iterrows():\n",
    "    temp_df=(pd.DataFrame({'ID':range(np.int(row['start']), np.int(row['end'])),\n",
    "                          'value':[row['value']]*np.int((row['end'] - row['start']))}))\n",
    "    final_df6 = pd.concat([final_df6, temp_df])\n",
    "    "
   ]
  },
  {
   "cell_type": "code",
   "execution_count": 14,
   "metadata": {
    "scrolled": false
   },
   "outputs": [],
   "source": [
    "# Taking out the first row of negative values\n",
    "final_df6 = final_df6[final_df6['ID'] > -1]"
   ]
  },
  {
   "cell_type": "code",
   "execution_count": 15,
   "metadata": {},
   "outputs": [],
   "source": [
    "# Creating a blank dataframe of the total length of chromosome 3\n",
    "blank = pd.DataFrame({'ID': range(0,62628489)})"
   ]
  },
  {
   "cell_type": "code",
   "execution_count": 16,
   "metadata": {},
   "outputs": [],
   "source": [
    "# Merging the blank dataframe with the newly created nucleotide-level dataframe\n",
    "new_df6 = blank.merge(final_df6, how='left', on='ID')"
   ]
  },
  {
   "cell_type": "code",
   "execution_count": 17,
   "metadata": {},
   "outputs": [],
   "source": [
    "# Filling NA's in final dataframe for hour 2 with 0\n",
    "new_df6['value'] = new_df6['value'].fillna(0.0)"
   ]
  },
  {
   "cell_type": "markdown",
   "metadata": {},
   "source": [
    "### Exporting Data"
   ]
  },
  {
   "cell_type": "code",
   "execution_count": 69,
   "metadata": {},
   "outputs": [],
   "source": [
    "# Converting dataframes to csv for further analysis\n",
    "new_df.to_csv('hour_2.csv',index=False)\n",
    "new_df6.to_csv('hour_6.csv',index=False)"
   ]
  },
  {
   "cell_type": "code",
   "execution_count": null,
   "metadata": {},
   "outputs": [],
   "source": []
  }
 ],
 "metadata": {
  "kernelspec": {
   "display_name": "Python 3",
   "language": "python",
   "name": "python3"
  },
  "language_info": {
   "codemirror_mode": {
    "name": "ipython",
    "version": 3
   },
   "file_extension": ".py",
   "mimetype": "text/x-python",
   "name": "python",
   "nbconvert_exporter": "python",
   "pygments_lexer": "ipython3",
   "version": "3.9.1"
  }
 },
 "nbformat": 4,
 "nbformat_minor": 4
}
