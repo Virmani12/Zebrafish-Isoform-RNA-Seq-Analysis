{
 "cells": [
  {
   "cell_type": "markdown",
   "id": "disabled-grant",
   "metadata": {},
   "source": [
    "### Author: Aman Virmani"
   ]
  },
  {
   "cell_type": "markdown",
   "id": "coupled-technical",
   "metadata": {},
   "source": [
    "This code develops the finalized algorithm we used to detect a step-like function in our exons (regions of interest). This data is then exported into a csv (in descending order) for analysis of our results."
   ]
  },
  {
   "cell_type": "code",
   "execution_count": 1,
   "id": "bearing-affect",
   "metadata": {},
   "outputs": [],
   "source": [
    "# Import packages\n",
    "import pandas as pd\n",
    "import numpy as np\n",
    "import matplotlib.pyplot as plt"
   ]
  },
  {
   "cell_type": "code",
   "execution_count": 2,
   "id": "subjective-globe",
   "metadata": {},
   "outputs": [],
   "source": [
    "# Read in regions of interest data (exonic regions), log2 change in coverage data, and individual coverage files\n",
    "df_roi = pd.read_csv('ChrROIs.csv')\n",
    "df_roi = df_roi[['Chr','Start','End','AvgCoverage']]\n",
    "df_full = pd.read_csv('Log2_change_in_coverage.csv')\n",
    "df_h6 = pd.read_csv('hour_6.csv')\n",
    "df_h2 = pd.read_csv('hour_2.csv')"
   ]
  },
  {
   "cell_type": "code",
   "execution_count": 3,
   "id": "unnecessary-french",
   "metadata": {},
   "outputs": [],
   "source": [
    "# Algorithm to detect a \"step\"-like change in coverage, and append a statistic that is respective to severity of \"step\"\n",
    "\n",
    "# Create a dataframe to hold statistics\n",
    "df_mag_step = pd.DataFrame(columns = ['Start','End','Difference','Pos'])\n",
    "\n",
    "# For each exonic region, start by looking at the middle third region\n",
    "for start,end in zip(df_roi['Start'],df_roi['End']):\n",
    "    max_info = [start,end,0,0]\n",
    "    max_diff = float('-inf')\n",
    "    first_pos = int(((end - start)/3) + start)\n",
    "    last_pos = int(end - ((end - start)/3))\n",
    "    \n",
    "    # For each position in the region, find the largest difference in average log2 change in coverage \n",
    "    # between the right side of the position and the left side of the position\n",
    "    for pos in df_full['ID'].iloc[first_pos:last_pos+1]:\n",
    "\n",
    "        left_win_len = pos-start\n",
    "        right_win_len = end - pos\n",
    "\n",
    "        left_avg = (df_full['log2Diff_6_minus_2'].iloc[start:pos].sum())/left_win_len\n",
    "        right_avg = (df_full['log2Diff_6_minus_2'].iloc[pos+1:end+1].sum())/right_win_len\n",
    "\n",
    "        diff = abs(right_avg - left_avg)\n",
    "\n",
    "        if max_diff < diff:\n",
    "            max_diff = diff\n",
    "            max_info = [start,end,max_diff,pos]\n",
    "    \n",
    "    # if either the hour2 or hour6 data is 0 over the range (0.1 since we added a constant), don't append\n",
    "    if (df_h6['value'].iloc[start] == 0.1 and df_h6['value'].iloc[end] == 0.1) or (df_h2['value'].iloc[start] == 0.1 and df_h2['value'].iloc[end] == 0.1):\n",
    "        continue\n",
    "    \n",
    "    # Append the maximum difference, start position, end position, and position of the maximum difference to dataframe\n",
    "    else:\n",
    "        a_series = pd.Series(max_info, index = df_mag_step.columns)\n",
    "        df_mag_step = df_mag_step.append(a_series, ignore_index=True)\n",
    "        \n",
    "    \n",
    "    \n",
    "        "
   ]
  },
  {
   "cell_type": "code",
   "execution_count": 4,
   "id": "binding-bikini",
   "metadata": {},
   "outputs": [],
   "source": [
    "# Sort dataframe based on largest difference\n",
    "df_mag_step_sorted = df_mag_step.sort_values(by=['Difference'], ascending=False)"
   ]
  },
  {
   "cell_type": "code",
   "execution_count": 5,
   "id": "organizational-synthetic",
   "metadata": {},
   "outputs": [],
   "source": [
    "# Export data to csv for further analysis\n",
    "df_mag_step_sorted.to_csv('Sorted_isoform_detections.csv',index=False)"
   ]
  }
 ],
 "metadata": {
  "kernelspec": {
   "display_name": "Python 3",
   "language": "python",
   "name": "python3"
  },
  "language_info": {
   "codemirror_mode": {
    "name": "ipython",
    "version": 3
   },
   "file_extension": ".py",
   "mimetype": "text/x-python",
   "name": "python",
   "nbconvert_exporter": "python",
   "pygments_lexer": "ipython3",
   "version": "3.9.1"
  }
 },
 "nbformat": 4,
 "nbformat_minor": 5
}
